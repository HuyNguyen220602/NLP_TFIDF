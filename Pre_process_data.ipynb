{
 "cells": [
  {
   "cell_type": "code",
   "execution_count": 1,
   "metadata": {},
   "outputs": [],
   "source": [
    "import pandas as pd\n",
    "from nltk.tokenize import sent_tokenize\n",
    "from underthesea import text_normalize\n",
    "from underthesea import word_tokenize\n",
    "from underthesea import classify\n",
    "from underthesea import sentiment\n",
    "import matplotlib.pyplot as plt\n",
    "import seaborn as sns\n",
    "from string import punctuation\n",
    "from nltk.tokenize import word_tokenize\n",
    "from nltk.stem import LancasterStemmer\n",
    "from string import punctuation\n",
    "from nltk.corpus import stopwords\n",
    "from nltk.tokenize import word_tokenize\n",
    "from nltk.stem import LancasterStemmer\n",
    "from nltk.stem.wordnet import WordNetLemmatizer\n",
    "import re\n",
    "import warnings\n",
    "warnings.filterwarnings('ignore')"
   ]
  },
  {
   "cell_type": "code",
   "execution_count": 2,
   "metadata": {},
   "outputs": [
    {
     "name": "stdout",
     "output_type": "stream",
     "text": [
      "                                         Review Text sentiment\n",
      "0  If you're a foreigner, don't even bother comin...   Neutral\n",
      "1  Supposedly one of the best public hospitals in...  Positive\n",
      "2  After having gone to multiple clinics and “for...  Positive\n",
      "3  I’ve never seen any hospitals in Vietnam like ...  Negative\n",
      "4  The worst service ever.  I was hospitalized he...  Negative\n"
     ]
    }
   ],
   "source": [
    "data = pd.read_csv(\"F:\\Project NLP\\Crawldata_BVDHYD.csv\",).drop([\"Time\", \"Rating\"], axis=1)\n",
    "print(data.head())"
   ]
  },
  {
   "cell_type": "code",
   "execution_count": 3,
   "metadata": {},
   "outputs": [
    {
     "data": {
      "text/html": [
       "<div>\n",
       "<style scoped>\n",
       "    .dataframe tbody tr th:only-of-type {\n",
       "        vertical-align: middle;\n",
       "    }\n",
       "\n",
       "    .dataframe tbody tr th {\n",
       "        vertical-align: top;\n",
       "    }\n",
       "\n",
       "    .dataframe thead th {\n",
       "        text-align: right;\n",
       "    }\n",
       "</style>\n",
       "<table border=\"1\" class=\"dataframe\">\n",
       "  <thead>\n",
       "    <tr style=\"text-align: right;\">\n",
       "      <th></th>\n",
       "      <th>Review Text</th>\n",
       "      <th>sentiment</th>\n",
       "    </tr>\n",
       "  </thead>\n",
       "  <tbody>\n",
       "    <tr>\n",
       "      <th>0</th>\n",
       "      <td>If you're a foreigner, don't even bother comin...</td>\n",
       "      <td>1</td>\n",
       "    </tr>\n",
       "    <tr>\n",
       "      <th>1</th>\n",
       "      <td>Supposedly one of the best public hospitals in...</td>\n",
       "      <td>2</td>\n",
       "    </tr>\n",
       "    <tr>\n",
       "      <th>2</th>\n",
       "      <td>After having gone to multiple clinics and “for...</td>\n",
       "      <td>2</td>\n",
       "    </tr>\n",
       "    <tr>\n",
       "      <th>3</th>\n",
       "      <td>I’ve never seen any hospitals in Vietnam like ...</td>\n",
       "      <td>0</td>\n",
       "    </tr>\n",
       "    <tr>\n",
       "      <th>4</th>\n",
       "      <td>The worst service ever.  I was hospitalized he...</td>\n",
       "      <td>0</td>\n",
       "    </tr>\n",
       "    <tr>\n",
       "      <th>...</th>\n",
       "      <td>...</td>\n",
       "      <td>...</td>\n",
       "    </tr>\n",
       "    <tr>\n",
       "      <th>1135</th>\n",
       "      <td>Ổn, khá đông, bác sĩ tốt</td>\n",
       "      <td>2</td>\n",
       "    </tr>\n",
       "    <tr>\n",
       "      <th>1136</th>\n",
       "      <td>Miễn bàn luận luôn</td>\n",
       "      <td>2</td>\n",
       "    </tr>\n",
       "    <tr>\n",
       "      <th>1137</th>\n",
       "      <td>Bệnh viện tốt</td>\n",
       "      <td>2</td>\n",
       "    </tr>\n",
       "    <tr>\n",
       "      <th>1138</th>\n",
       "      <td>Tot.co Wi-Fi ∩__∩</td>\n",
       "      <td>2</td>\n",
       "    </tr>\n",
       "    <tr>\n",
       "      <th>1139</th>\n",
       "      <td>Neu buom co chua duoc kg</td>\n",
       "      <td>2</td>\n",
       "    </tr>\n",
       "  </tbody>\n",
       "</table>\n",
       "<p>1140 rows × 2 columns</p>\n",
       "</div>"
      ],
      "text/plain": [
       "                                            Review Text  sentiment\n",
       "0     If you're a foreigner, don't even bother comin...          1\n",
       "1     Supposedly one of the best public hospitals in...          2\n",
       "2     After having gone to multiple clinics and “for...          2\n",
       "3     I’ve never seen any hospitals in Vietnam like ...          0\n",
       "4     The worst service ever.  I was hospitalized he...          0\n",
       "...                                                 ...        ...\n",
       "1135                           Ổn, khá đông, bác sĩ tốt          2\n",
       "1136                                 Miễn bàn luận luôn          2\n",
       "1137                                      Bệnh viện tốt          2\n",
       "1138                                  Tot.co Wi-Fi ∩__∩          2\n",
       "1139                           Neu buom co chua duoc kg          2\n",
       "\n",
       "[1140 rows x 2 columns]"
      ]
     },
     "execution_count": 3,
     "metadata": {},
     "output_type": "execute_result"
    }
   ],
   "source": [
    "data[\"sentiment\"] = data[\"sentiment\"].replace({\"Negative\": 0, \"Neutral\": 1, \"Positive\": 2})\n",
    "data"
   ]
  },
  {
   "cell_type": "code",
   "execution_count": 4,
   "metadata": {},
   "outputs": [
    {
     "data": {
      "text/plain": [
       "(1140, 2)"
      ]
     },
     "execution_count": 4,
     "metadata": {},
     "output_type": "execute_result"
    }
   ],
   "source": [
    "data.shape"
   ]
  },
  {
   "cell_type": "code",
   "execution_count": 5,
   "metadata": {},
   "outputs": [],
   "source": [
    "texts = data['Review Text']"
   ]
  },
  {
   "cell_type": "code",
   "execution_count": 6,
   "metadata": {},
   "outputs": [],
   "source": [
    "import numpy as np\n",
    "\n",
    "text_lens = []\n",
    "for t in texts.values:\n",
    "    if isinstance(t, str):\n",
    "        text_len = len(t.split())\n",
    "        text_lens.append(text_len)\n",
    "\n",
    "len_mean = np.mean(text_lens)"
   ]
  },
  {
   "cell_type": "code",
   "execution_count": 7,
   "metadata": {},
   "outputs": [
    {
     "data": {
      "text/plain": [
       "48.0325417766051"
      ]
     },
     "execution_count": 7,
     "metadata": {},
     "output_type": "execute_result"
    }
   ],
   "source": [
    "len_mean"
   ]
  },
  {
   "cell_type": "code",
   "execution_count": 8,
   "metadata": {},
   "outputs": [],
   "source": [
    "stopwords_vn = [\n",
    "\"bị\",\n",
    "\"bởi\",\n",
    "\"cả\",\n",
    "\"các\",\n",
    "\"cái\",\n",
    "\"cần\",\n",
    "\"càng\"\n",
    "\"chỉ\",\n",
    "\"chiếc\",\n",
    "\"cho\",\n",
    "\"chứ\",\n",
    "\"chưa\",\n",
    "\"chuyện\",\n",
    "\"có\",\n",
    "\"có_thể\",\n",
    "\"cứ\",\n",
    "\"của\",\n",
    "\"cùng\",\n",
    "\"cũng\"\n",
    "\"đã\",\n",
    "\"đang\",\n",
    "\"đây\",\n",
    "\"để\",\n",
    "\"đến_nỗi\",\n",
    "\"đều\",\n",
    "\"điều\",\n",
    "\"do\",\n",
    "\"đó\",\n",
    "\"được\",\n",
    "\"dưới\",\n",
    "\"gì\",\n",
    "\"khi\",\n",
    "\"không\",\n",
    "\"là\",\n",
    "\"lại\",\n",
    "\"lên\",\n",
    "\"lúc\",\n",
    "\"mà\",\n",
    "\"mỗi\",\n",
    "\"một_cách\",\n",
    "\"này\",\n",
    "\"nên\",\n",
    "\"nếu\",\n",
    "\"ngay\",\n",
    "\"nhiều\",\n",
    "\"như\",\n",
    "\"nhưng\",\n",
    "\"những\",\n",
    "\"nơi\",\n",
    "\"nữa\",\n",
    "\"phải\",\n",
    "\"qua\",\n",
    "\"ra\",\n",
    "\"rằng\",\n",
    "\"rằng\",\n",
    "\"rất\",\n",
    "\"rất\",\n",
    "\"rồi\",\n",
    "\"sau\",\n",
    "\"sẽ\",\n",
    "\"so\",\n",
    "\"sự\",\n",
    "\"tại\",\n",
    "\"theo\",\n",
    "\"thì\",\n",
    "\"trên\",\n",
    "\"trước\",\n",
    "\"từ\",\n",
    "\"từng\",\n",
    "\"và\",\n",
    "\"vẫn\",\n",
    "\"vào\",\n",
    "\"vậy\",\n",
    "\"vì\",\n",
    "\"việc\",\n",
    "\"với\",\n",
    "\"vừa\",\n",
    "    # Add more stopwords as needed\n",
    "]"
   ]
  },
  {
   "cell_type": "code",
   "execution_count": 9,
   "metadata": {},
   "outputs": [
    {
     "name": "stdout",
     "output_type": "stream",
     "text": [
      "1140\n",
      "If you're a foreigner, don't even bother coming here. Their process diagnostic papers on hand to see the doctors and if you don't have them, you'll be on an expensive goose chase around the whole facility waiting on it all.\n",
      "\n",
      "We arrived at approximately 2 AM and left at around 4 PM to give you an example of the wait. Once you go to the nicer areas, it's air conditioned, so there's that. Also there are water fountains that dispense cold, water, and hot water which is cool.\n",
      "\n",
      "There's barely any semblance of a triage system or lines as Viets are terrible at waiting in line and when they see someone get in line before them, even if it's needed. So there's just a number system instead. You go to the target room and wait for your number to show up in that room.\n",
      "\n",
      "But that docs here are pretty good with a lot of the practices you might see Western docs do, at least the good ones do it.\n"
     ]
    }
   ],
   "source": [
    "stuff_to_be_removed = stopwords.words('english') + list(punctuation) + stopwords_vn\n",
    "stemmer = LancasterStemmer()\n",
    "corpus = data['Review Text'].tolist()\n",
    "print(len(corpus))\n",
    "print(corpus[0])\n"
   ]
  },
  {
   "cell_type": "code",
   "execution_count": 10,
   "metadata": {},
   "outputs": [],
   "source": [
    "word_replacements = leet = {\n",
    "    \"1\": \"i\",\n",
    "    \"3\": \"e\",\n",
    "    \"4\": \"a\",\n",
    "    \"5\": \"s\",\n",
    "    \"7\": \"t\",\n",
    "    \"0\": \"o\",\n",
    "    \"@\" :\"a\",\n",
    "    \"/\\ \": \"a\",\n",
    "    \"/-\\ \": \"a\",\n",
    "    \"*\" : \"a\",\n",
    "    \"ä\" : \"a\",\n",
    "    \"á\" :\"a\",\n",
    "    \"à\" : \"a\",\n",
    "    \"â\" : \"a\",\n",
    "    \"a^\": \"a\",\n",
    "    \"ã\" : \"a\",\n",
    "    \"å\" : \"a\",\n",
    "    \"ą\" : \"a\",\n",
    "    \"ª\" : \"a\",\n",
    "    \"∀\" : \"a\",\n",
    "    \"∧\" : \"a\",\n",
    "    \"α\" : \"a\",\n",
    "    \"8\" : \"b\",\n",
    "    \"|3\": \"b\",\n",
    "    \"13\": \"b\",\n",
    "    \"ß\" : \"b\",\n",
    "    \"þ\" : \"b\",\n",
    "    \"v\" : \"b\",\n",
    "    \"ć\" : \"c\",\n",
    "    \"č\" : \"c\",\n",
    "    \"ç\" : \"c\",\n",
    "    \"©\" : \"c\",\n",
    "    \"σ\" : \"c\",\n",
    "    \"(\" : \"c\",\n",
    "    \"¢\" : \"c\",\n",
    "    \"<\" : \"c\",\n",
    "    '[' : \"c\",\n",
    "    '©': \"c\",\n",
    "    \"[)\" : \"d\",\n",
    "    \"|>\" : \"d\",\n",
    "    \"|)\" : \"d\",\n",
    "    \"|]\": \"d\",\n",
    "    \"3\" : \"e\",\n",
    "    \"€\" : \"e\",\n",
    "    \"є\" : \"e\",\n",
    "    \"[-\": \"e\",\n",
    "    \"|=\" : \"f\",\n",
    "    \"ƒ\" : \"f\",\n",
    "    \"/=\": \"f\",\n",
    "    \"6\" : \"g\",\n",
    "    \"(_+\": \"g\",\n",
    "    \"#\" : \"h\",\n",
    "    \"/-/\" : \"h\",\n",
    "    \"[-]\" : \"h\",\n",
    "    \"]-[\" : \"h\",\n",
    "    \")-(\" : \"h\",\n",
    "    \"(-)\" : \"h\",\n",
    "    \":-:\" : \"h\",\n",
    "    \"|~|\" : \"h\",\n",
    "    \"|-|\" : \"h\",\n",
    "    \"]~[\" : \"h\",\n",
    "    \"}{\" : \"h\",\n",
    "    \"1\" : \"i\",\n",
    "    '!' : \"i\",\n",
    "    \"|\" : \"i\",\n",
    "    \"][\" : \"i\",\n",
    "    \"]\" : \"i\",\n",
    "    \":\": \"i\",\n",
    "    \"_|\" : \"j\",\n",
    "    \"_/\" : \"j\",\n",
    "    \"¿\" : \"j\",\n",
    "    \"(/\" : \"j\",\n",
    "    \"ʝ\" : \"j\",\n",
    "    \";\" : \"j\",\n",
    "    \"X\" : \"k\",\n",
    "    \"|<\" : \"k\",\n",
    "    \"|{\" : \"k\",\n",
    "    \"ɮ\" : \"k\",\n",
    "    \"£\" : \"l\",\n",
    "    \"1_\" : \"l\",\n",
    "    \"ℓ\" : \"l\",\n",
    "    \"|_\" : \"l\",\n",
    "    \"[_\": \"l\",\n",
    "    \"|V|\" : \"m\",\n",
    "    \"|\\/|\" : \"m\",\n",
    "    \"/\\/\\ \" : \"m\",\n",
    "    \"/V\\ \": \"m\",\n",
    "    \"|V\" : \"n\",\n",
    "    \"|\\|\" : \"n\",\n",
    "    \"/\\/\" : \"n\",\n",
    "    \"[\\]\" : \"n\",\n",
    "    \"/V\" : \"n\",\n",
    "    \"[]\" : \"o\",\n",
    "    \"0\" :\"o\" ,\n",
    "    \"()\" : \"o\",\n",
    "    \"°\" : \"o\",\n",
    "    \"|*\" : \"p\",\n",
    "    \"|o\" : \"p\",\n",
    "    \"|º\" : \"p\",\n",
    "    \"|°\" : \"p\",\n",
    "    \"/*\" : \"p\",\n",
    "    \"¶\" : \"q\",\n",
    "    \"(_,)\" : \"q\",\n",
    "    \"()_\" : \"q\",\n",
    "    \"0_\" : \"q\",\n",
    "    \"°|\" : \"q\",\n",
    "    \"<|\" : \"q\",\n",
    "    \"®\" : \"r\",\n",
    "    \"2\" : \"r\",\n",
    "    \"|?\" : \"r\",\n",
    "    \"/2\" : \"r\",\n",
    "    \"®\" : \"r\",\n",
    "    \"Я\" : \"r\",\n",
    "    \"|2\": \"r\",\n",
    "    \"§\" : \"s\",\n",
    "    \"5\" : \"s\",\n",
    "    \"$\" : \"s\",\n",
    "    \"_/¯\": \"s\",\n",
    "    \"7\" : \"t\",\n",
    "    \"†\" : \"t\",\n",
    "    \"¯|¯\" : \"t\",\n",
    "    \"(_)\" : \"u\",\n",
    "    \"|_|\" : \"u\",\n",
    "    \"L|\" : \"u\",\n",
    "    \"µ\": \"u\",\n",
    "    \"\\/\" : \"v\",\n",
    "    \"|/\" : \"v\",\n",
    "    \"\\/\\/\" : \"w\",\n",
    "    \"vv\" : \"w\",\n",
    "    \"\\//\" :\"w\",\n",
    "    \"\\^/\" : \"w\",\n",
    "    \"\\V/\" : \"w\",\n",
    "    \"\\|/\" : \"w\",\n",
    "    \"\\_|_/\" : \"w\",\n",
    "    \"\\_:_/\" : \"w\",\n",
    "    \"><\": \"x\",\n",
    "    \"}{\" : \"x\",\n",
    "    \"×\" : \"x\",\n",
    "    \")(\" : \"x\",\n",
    "    \" `/\" : \"y\",\n",
    "    \"φ\" : \"y\",\n",
    "    \"¥\" : \"y\",\n",
    "    \"\\/\": \"y\",\n",
    "    \"≥\" : \"z\",\n",
    "    \"7_\" : \"z\",\n",
    "    \">_\": \"z\",\n",
    "    \"youre\": \"you are\",\n",
    "    \"im\": \"I am\",\n",
    "    \"dont\": \"do not\",\n",
    "    \"cant\": \"cannot\",\n",
    "    \"wont\": \"will not\",\n",
    "    \"ive\": \"I have\",\n",
    "    \"id\": \"I would\",\n",
    "    \"theyre\": \"they are\",\n",
    "    \"theres\": \"there is\",\n",
    "    \"ko\": \"không\",\n",
    "    \"t\": \"tôi\",\n",
    "    \"m\": \"mình\",\n",
    "    \"mày\": \"em\",\n",
    "    \"tao\": \"anh\",\n",
    "    \"dc\": \"được\",\n",
    "    \"hok\": \"không\",\n",
    "    \"ngta\": \"người ta\",\n",
    "    'bsau': \"bữa sau\",\n",
    "    \"k\":'không'\n",
    "}"
   ]
  },
  {
   "cell_type": "code",
   "execution_count": 11,
   "metadata": {},
   "outputs": [],
   "source": [
    "final_corpus = []\n",
    "final_corpus_joined = []\n",
    "for i in data.index:\n",
    "    text = data['Review Text'][i]\n",
    "    if isinstance(text, str):\n",
    "        text = re.sub('[^a-zA-Zàáảãạăắằẵặẳâấầẩẫậđèéẻẽẹêềếểễệìíỉĩịòóỏõọôốồổỗộơớờởỡợùúủũụưứừửữựỳýỷỹỵ]', ' ', text)\n",
    "        text = text.lower()\n",
    "        text = re.sub(\"&lt;/?.*?&gt;\", \" &lt;&gt; \", text)\n",
    "        text = re.sub(\"(\\\\d|\\\\W)+\", \" \", text)\n",
    "        text = re.sub(r'\\d+', '', text)\n",
    "        text = re.sub(r'(http\\S+)?(\\w+\\.)+\\S+', r'', text)\n",
    "        text = text.split()\n",
    "        lem = WordNetLemmatizer()\n",
    "        text = [lem.lemmatize(word) for word in text if not word in stuff_to_be_removed]\n",
    "        # Apply word replacements\n",
    "        text = [word_replacements.get(word, word) for word in text]\n",
    "        text1 = \" \".join(text)\n",
    "    else:\n",
    "        # Handle non-string elements\n",
    "        text1 = \"\"\n",
    "    final_corpus.append(text)\n",
    "    final_corpus_joined.append(text1)"
   ]
  },
  {
   "cell_type": "code",
   "execution_count": 12,
   "metadata": {},
   "outputs": [
    {
     "name": "stdout",
     "output_type": "stream",
     "text": [
      "1140\n"
     ]
    }
   ],
   "source": [
    "num_elements = len(final_corpus)\n",
    "print(num_elements)"
   ]
  },
  {
   "cell_type": "code",
   "execution_count": 13,
   "metadata": {},
   "outputs": [
    {
     "name": "stdout",
     "output_type": "stream",
     "text": [
      "1140\n"
     ]
    }
   ],
   "source": [
    "num_elements_2 = len(final_corpus_joined)\n",
    "print(num_elements_2)"
   ]
  },
  {
   "cell_type": "code",
   "execution_count": 14,
   "metadata": {},
   "outputs": [],
   "source": [
    "data_cleaned = pd.DataFrame()\n",
    "data_cleaned[\"Review Text\"] = final_corpus_joined\n",
    "data_cleaned[\"sentiment\"] = data[\"sentiment\"].values"
   ]
  },
  {
   "cell_type": "code",
   "execution_count": 15,
   "metadata": {},
   "outputs": [
    {
     "data": {
      "text/html": [
       "<div>\n",
       "<style scoped>\n",
       "    .dataframe tbody tr th:only-of-type {\n",
       "        vertical-align: middle;\n",
       "    }\n",
       "\n",
       "    .dataframe tbody tr th {\n",
       "        vertical-align: top;\n",
       "    }\n",
       "\n",
       "    .dataframe thead th {\n",
       "        text-align: right;\n",
       "    }\n",
       "</style>\n",
       "<table border=\"1\" class=\"dataframe\">\n",
       "  <thead>\n",
       "    <tr style=\"text-align: right;\">\n",
       "      <th></th>\n",
       "      <th>Review Text</th>\n",
       "      <th>sentiment</th>\n",
       "    </tr>\n",
       "  </thead>\n",
       "  <tbody>\n",
       "    <tr>\n",
       "      <th>0</th>\n",
       "      <td>[foreigner, even, bother, coming, process, dia...</td>\n",
       "      <td>1</td>\n",
       "    </tr>\n",
       "    <tr>\n",
       "      <th>1</th>\n",
       "      <td>[supposedly, one, best, public, hospital, viet...</td>\n",
       "      <td>2</td>\n",
       "    </tr>\n",
       "    <tr>\n",
       "      <th>2</th>\n",
       "      <td>[gone, multiple, clinic, foreigner, hospital, ...</td>\n",
       "      <td>2</td>\n",
       "    </tr>\n",
       "    <tr>\n",
       "      <th>3</th>\n",
       "      <td>[never, seen, hospital, vietnam, like, one, lo...</td>\n",
       "      <td>0</td>\n",
       "    </tr>\n",
       "    <tr>\n",
       "      <th>4</th>\n",
       "      <td>[worst, service, ever, hospitalized, given, qr...</td>\n",
       "      <td>0</td>\n",
       "    </tr>\n",
       "  </tbody>\n",
       "</table>\n",
       "</div>"
      ],
      "text/plain": [
       "                                         Review Text  sentiment\n",
       "0  [foreigner, even, bother, coming, process, dia...          1\n",
       "1  [supposedly, one, best, public, hospital, viet...          2\n",
       "2  [gone, multiple, clinic, foreigner, hospital, ...          2\n",
       "3  [never, seen, hospital, vietnam, like, one, lo...          0\n",
       "4  [worst, service, ever, hospitalized, given, qr...          0"
      ]
     },
     "execution_count": 15,
     "metadata": {},
     "output_type": "execute_result"
    }
   ],
   "source": [
    "data_eda = pd.DataFrame()\n",
    "data_eda['Review Text'] = final_corpus\n",
    "data_eda['sentiment'] = data['sentiment'].values\n",
    "data_eda.head()"
   ]
  },
  {
   "cell_type": "code",
   "execution_count": 16,
   "metadata": {},
   "outputs": [],
   "source": [
    "Neutral = data_eda[data_eda['sentiment'] == 4]\n",
    "Neutral_list = Neutral['Review Text'].tolist()\n",
    "Negative = data_eda[data_eda['sentiment'] == 0]\n",
    "Negative_list = Negative['Review Text'].tolist()\n",
    "Positive = data_eda[data_eda['sentiment'] == 2]\n",
    "Positive_list = Positive['Review Text'].tolist()"
   ]
  },
  {
   "cell_type": "code",
   "execution_count": 17,
   "metadata": {},
   "outputs": [],
   "source": [
    "Positive_all = \" \".join([word for sent in Positive_list if isinstance(sent, list) for word in sent])\n",
    "Negative_all = \" \".join([word for sent in Negative_list if isinstance(sent, list) for word in sent])\n",
    "Neutral_all = \" \".join([word for sent in Neutral_list if isinstance(sent, list) for word in sent])"
   ]
  },
  {
   "cell_type": "code",
   "execution_count": 27,
   "metadata": {},
   "outputs": [],
   "source": [
    "from sklearn.feature_extraction.text import TfidfVectorizer\n",
    "tfidf = TfidfVectorizer()\n",
    "xt = tfidf.fit_transform(data_cleaned['Review Text'])\n",
    "y = data_cleaned['sentiment']"
   ]
  },
  {
   "cell_type": "code",
   "execution_count": 28,
   "metadata": {},
   "outputs": [],
   "source": [
    "from sklearn.model_selection import train_test_split\n",
    "X_train, X_test, y_train, y_test = train_test_split(xt, \n",
    "                                                    y, \n",
    "                                                    test_size=0.33, \n",
    "                                                    random_state=123,\n",
    "                                                    stratify = y)"
   ]
  },
  {
   "cell_type": "code",
   "execution_count": 29,
   "metadata": {},
   "outputs": [],
   "source": [
    "from sklearn.metrics import accuracy_score,confusion_matrix,classification_report\n",
    "from sklearn.linear_model import LogisticRegression"
   ]
  },
  {
   "cell_type": "code",
   "execution_count": 30,
   "metadata": {},
   "outputs": [
    {
     "data": {
      "text/html": [
       "<style>#sk-container-id-2 {color: black;background-color: white;}#sk-container-id-2 pre{padding: 0;}#sk-container-id-2 div.sk-toggleable {background-color: white;}#sk-container-id-2 label.sk-toggleable__label {cursor: pointer;display: block;width: 100%;margin-bottom: 0;padding: 0.3em;box-sizing: border-box;text-align: center;}#sk-container-id-2 label.sk-toggleable__label-arrow:before {content: \"▸\";float: left;margin-right: 0.25em;color: #696969;}#sk-container-id-2 label.sk-toggleable__label-arrow:hover:before {color: black;}#sk-container-id-2 div.sk-estimator:hover label.sk-toggleable__label-arrow:before {color: black;}#sk-container-id-2 div.sk-toggleable__content {max-height: 0;max-width: 0;overflow: hidden;text-align: left;background-color: #f0f8ff;}#sk-container-id-2 div.sk-toggleable__content pre {margin: 0.2em;color: black;border-radius: 0.25em;background-color: #f0f8ff;}#sk-container-id-2 input.sk-toggleable__control:checked~div.sk-toggleable__content {max-height: 200px;max-width: 100%;overflow: auto;}#sk-container-id-2 input.sk-toggleable__control:checked~label.sk-toggleable__label-arrow:before {content: \"▾\";}#sk-container-id-2 div.sk-estimator input.sk-toggleable__control:checked~label.sk-toggleable__label {background-color: #d4ebff;}#sk-container-id-2 div.sk-label input.sk-toggleable__control:checked~label.sk-toggleable__label {background-color: #d4ebff;}#sk-container-id-2 input.sk-hidden--visually {border: 0;clip: rect(1px 1px 1px 1px);clip: rect(1px, 1px, 1px, 1px);height: 1px;margin: -1px;overflow: hidden;padding: 0;position: absolute;width: 1px;}#sk-container-id-2 div.sk-estimator {font-family: monospace;background-color: #f0f8ff;border: 1px dotted black;border-radius: 0.25em;box-sizing: border-box;margin-bottom: 0.5em;}#sk-container-id-2 div.sk-estimator:hover {background-color: #d4ebff;}#sk-container-id-2 div.sk-parallel-item::after {content: \"\";width: 100%;border-bottom: 1px solid gray;flex-grow: 1;}#sk-container-id-2 div.sk-label:hover label.sk-toggleable__label {background-color: #d4ebff;}#sk-container-id-2 div.sk-serial::before {content: \"\";position: absolute;border-left: 1px solid gray;box-sizing: border-box;top: 0;bottom: 0;left: 50%;z-index: 0;}#sk-container-id-2 div.sk-serial {display: flex;flex-direction: column;align-items: center;background-color: white;padding-right: 0.2em;padding-left: 0.2em;position: relative;}#sk-container-id-2 div.sk-item {position: relative;z-index: 1;}#sk-container-id-2 div.sk-parallel {display: flex;align-items: stretch;justify-content: center;background-color: white;position: relative;}#sk-container-id-2 div.sk-item::before, #sk-container-id-2 div.sk-parallel-item::before {content: \"\";position: absolute;border-left: 1px solid gray;box-sizing: border-box;top: 0;bottom: 0;left: 50%;z-index: -1;}#sk-container-id-2 div.sk-parallel-item {display: flex;flex-direction: column;z-index: 1;position: relative;background-color: white;}#sk-container-id-2 div.sk-parallel-item:first-child::after {align-self: flex-end;width: 50%;}#sk-container-id-2 div.sk-parallel-item:last-child::after {align-self: flex-start;width: 50%;}#sk-container-id-2 div.sk-parallel-item:only-child::after {width: 0;}#sk-container-id-2 div.sk-dashed-wrapped {border: 1px dashed gray;margin: 0 0.4em 0.5em 0.4em;box-sizing: border-box;padding-bottom: 0.4em;background-color: white;}#sk-container-id-2 div.sk-label label {font-family: monospace;font-weight: bold;display: inline-block;line-height: 1.2em;}#sk-container-id-2 div.sk-label-container {text-align: center;}#sk-container-id-2 div.sk-container {/* jupyter's `normalize.less` sets `[hidden] { display: none; }` but bootstrap.min.css set `[hidden] { display: none !important; }` so we also need the `!important` here to be able to override the default hidden behavior on the sphinx rendered scikit-learn.org. See: https://github.com/scikit-learn/scikit-learn/issues/21755 */display: inline-block !important;position: relative;}#sk-container-id-2 div.sk-text-repr-fallback {display: none;}</style><div id=\"sk-container-id-2\" class=\"sk-top-container\"><div class=\"sk-text-repr-fallback\"><pre>LogisticRegression()</pre><b>In a Jupyter environment, please rerun this cell to show the HTML representation or trust the notebook. <br />On GitHub, the HTML representation is unable to render, please try loading this page with nbviewer.org.</b></div><div class=\"sk-container\" hidden><div class=\"sk-item\"><div class=\"sk-estimator sk-toggleable\"><input class=\"sk-toggleable__control sk-hidden--visually\" id=\"sk-estimator-id-2\" type=\"checkbox\" checked><label for=\"sk-estimator-id-2\" class=\"sk-toggleable__label sk-toggleable__label-arrow\">LogisticRegression</label><div class=\"sk-toggleable__content\"><pre>LogisticRegression()</pre></div></div></div></div></div>"
      ],
      "text/plain": [
       "LogisticRegression()"
      ]
     },
     "execution_count": 30,
     "metadata": {},
     "output_type": "execute_result"
    }
   ],
   "source": [
    "lr = LogisticRegression()\n",
    "lr.fit(X_train,y_train)"
   ]
  },
  {
   "cell_type": "code",
   "execution_count": 31,
   "metadata": {},
   "outputs": [
    {
     "data": {
      "text/plain": [
       "88.33551769331585"
      ]
     },
     "execution_count": 31,
     "metadata": {},
     "output_type": "execute_result"
    }
   ],
   "source": [
    "y_train_pred = lr.predict(X_train)\n",
    "y_test_pred = lr.predict(X_test)\n",
    "accuracy_score(y_train,y_train_pred)*100"
   ]
  },
  {
   "cell_type": "code",
   "execution_count": 32,
   "metadata": {},
   "outputs": [
    {
     "name": "stdout",
     "output_type": "stream",
     "text": [
      "[[215   0  17]\n",
      " [ 18   3  46]\n",
      " [  8   0 456]]\n"
     ]
    }
   ],
   "source": [
    "from sklearn.metrics import confusion_matrix\n",
    "\n",
    "y_train_pred = lr.predict(X_train)\n",
    "confusion_matrix_train = confusion_matrix(y_train, y_train_pred)\n",
    "\n",
    "print(confusion_matrix_train)"
   ]
  },
  {
   "cell_type": "code",
   "execution_count": 33,
   "metadata": {},
   "outputs": [
    {
     "name": "stdout",
     "output_type": "stream",
     "text": [
      "              precision    recall  f1-score   support\n",
      "\n",
      "           0       0.89      0.93      0.91       232\n",
      "           1       1.00      0.04      0.09        67\n",
      "           2       0.88      0.98      0.93       464\n",
      "\n",
      "    accuracy                           0.88       763\n",
      "   macro avg       0.92      0.65      0.64       763\n",
      "weighted avg       0.89      0.88      0.85       763\n",
      "\n"
     ]
    },
    {
     "data": {
      "text/plain": [
       "<Axes: >"
      ]
     },
     "execution_count": 33,
     "metadata": {},
     "output_type": "execute_result"
    },
    {
     "data": {
      "image/png": "[encoded data removed]",
      "text/plain": [
       "<Figure size 640x480 with 2 Axes>"
      ]
     },
     "metadata": {},
     "output_type": "display_data"
    }
   ],
   "source": [
    "from sklearn.metrics import classification_report\n",
    "\n",
    "y_train_pred = lr.predict(X_train)\n",
    "classification_report_train = classification_report(y_train, y_train_pred)\n",
    "\n",
    "print(classification_report_train)\n",
    "sns.heatmap(confusion_matrix_train, annot=True, fmt='d')"
   ]
  },
  {
   "cell_type": "code",
   "execution_count": 34,
   "metadata": {},
   "outputs": [
    {
     "name": "stdout",
     "output_type": "stream",
     "text": [
      "              precision    recall  f1-score   support\n",
      "\n",
      "           0       0.73      0.61      0.66       115\n",
      "           1       0.28      0.15      0.20        33\n",
      "           2       0.78      0.90      0.83       229\n",
      "\n",
      "    accuracy                           0.74       377\n",
      "   macro avg       0.60      0.55      0.56       377\n",
      "weighted avg       0.72      0.74      0.73       377\n",
      "\n"
     ]
    }
   ],
   "source": [
    "from sklearn.linear_model import SGDClassifier\n",
    "sgd = SGDClassifier().fit(X_train, y_train)\n",
    "sgd_prediction = sgd.predict(X_test)\n",
    "print(classification_report(y_test, sgd_prediction))\n"
   ]
  },
  {
   "cell_type": "code",
   "execution_count": 26,
   "metadata": {},
   "outputs": [
    {
     "name": "stdout",
     "output_type": "stream",
     "text": [
      "              precision    recall  f1-score   support\n",
      "\n",
      "           0       0.78      0.67      0.72       139\n",
      "           1       0.17      0.03      0.04        40\n",
      "           2       0.79      0.95      0.86       277\n",
      "\n",
      "    accuracy                           0.78       456\n",
      "   macro avg       0.58      0.55      0.54       456\n",
      "weighted avg       0.73      0.78      0.75       456\n",
      "\n"
     ]
    }
   ],
   "source": [
    "from sklearn.svm import SVC\n",
    "svc = SVC(C=1000).fit(X_train, y_train)\n",
    "svc_prediction = svc.predict(X_test)\n",
    "print(classification_report(y_test, svc_prediction))"
   ]
  },
  {
   "cell_type": "code",
   "execution_count": null,
   "metadata": {},
   "outputs": [],
   "source": [
    "from underthesea import sent_tokenize\n",
    "\n",
    "sentences = []\n",
    "for review in data[\"Review Text\"]:\n",
    "    review = str(review)  # Convert to string\n",
    "    preprocessed_sentences = sent_tokenize(review)\n",
    "    sentences.extend(preprocessed_sentences)\n",
    "\n",
    "print(sentences)"
   ]
  },
  {
   "cell_type": "code",
   "execution_count": null,
   "metadata": {},
   "outputs": [],
   "source": [
    "from underthesea import text_normalize\n",
    "\n",
    "normalized_sentences = []\n",
    "for sentence in sentences:\n",
    "    normalized_sentence = text_normalize(sentence)\n",
    "    normalized_sentences.append(normalized_sentence)\n",
    "\n",
    "print(normalized_sentences)"
   ]
  },
  {
   "cell_type": "code",
   "execution_count": null,
   "metadata": {},
   "outputs": [],
   "source": [
    "from underthesea import word_tokenize\n",
    "\n",
    "tokenized_sentences = []\n",
    "for normalized_sentence in normalized_sentences:\n",
    "    tokenized_sentence = word_tokenize(normalized_sentence)\n",
    "    tokenized_sentences.append(tokenized_sentence)\n",
    "\n",
    "print(tokenized_sentences)"
   ]
  },
  {
   "cell_type": "code",
   "execution_count": null,
   "metadata": {},
   "outputs": [],
   "source": [
    "lowercased_sentences = []\n",
    "for sentence in tokenized_sentences:\n",
    "    lowercased_sentence = [word.lower() for word in sentence]\n",
    "    lowercased_sentences.append(lowercased_sentence)\n",
    "\n",
    "print(lowercased_sentences)"
   ]
  },
  {
   "cell_type": "code",
   "execution_count": null,
   "metadata": {},
   "outputs": [],
   "source": [
    "from nltk.tokenize import word_tokenize\n",
    "from nltk.corpus import stopwords\n",
    "\n",
    "# Define the list of stopwords for Vietnamese and English\n",
    "\n",
    "stopwords_en = set(stopwords.words('english'))\n",
    "\n",
    "# Tokenize and remove stopwords\n",
    "filtered_sentences = []\n",
    "for sentence in lowercased_sentences:\n",
    "    filtered_sentence_vn = [word for word in sentence if word.lower() not in stopwords_vn]\n",
    "    filtered_sentence_en = [word for word in sentence if word.lower() not in stopwords_en]\n",
    "    filtered_sentences.append(filtered_sentence_vn)\n",
    "    filtered_sentences.append(filtered_sentence_en)\n",
    "\n",
    "print(filtered_sentences)"
   ]
  },
  {
   "cell_type": "code",
   "execution_count": null,
   "metadata": {},
   "outputs": [],
   "source": [
    "import re\n",
    "\n",
    "cleaned_sentences = []\n",
    "for sentence in filtered_sentences:\n",
    "    cleaned_sentence = []\n",
    "    for word in sentence:\n",
    "        # Remove numbers\n",
    "        word = re.sub(r'\\d+', '', word)\n",
    "        # Remove punctuation\n",
    "        word = re.sub(r'[^\\w\\s]', '', word)\n",
    "        # Remove duplicate characters within a word\n",
    "        #word = re.sub(r'(\\w)\\1+', r'\\1', word)\n",
    "        #word = re.sub(r'(.)\\1{2,}', r'\\1', word)\n",
    "        # Remove HTTP characters within a word\n",
    "        word = re.sub(r'(http\\S+)?(\\w+\\.)+\\S+', r'', word)\n",
    "\n",
    "        word = re.sub(r'[^\\s\\wáàảãạăắằẳẵặâấầẩẫậéèẻẽẹêếềểễệóòỏõọôốồổỗộơớờởỡợíìỉĩịúùủũụưứừửữựýỳỷỹỵđ]', r' ', word)\n",
    "        # Add cleaned word to the sentence\n",
    "        if word:\n",
    "            cleaned_sentence.append(word)\n",
    "    cleaned_sentences.append(cleaned_sentence)\n",
    "\n",
    "print(cleaned_sentences)"
   ]
  },
  {
   "cell_type": "code",
   "execution_count": null,
   "metadata": {},
   "outputs": [],
   "source": [
    "word_replacements = leet = {\n",
    "    \"1\": \"i\",\n",
    "    \"3\": \"e\",\n",
    "    \"4\": \"a\",\n",
    "    \"5\": \"s\",\n",
    "    \"7\": \"t\",\n",
    "    \"0\": \"o\",\n",
    "    \"@\" :\"a\",\n",
    "    \"/\\ \": \"a\",\n",
    "    \"/-\\ \": \"a\",\n",
    "    \"*\" : \"a\",\n",
    "    \"ä\" : \"a\",\n",
    "    \"á\" :\"a\",\n",
    "    \"à\" : \"a\",\n",
    "    \"â\" : \"a\",\n",
    "    \"a^\": \"a\",\n",
    "    \"ã\" : \"a\",\n",
    "    \"å\" : \"a\",\n",
    "    \"ą\" : \"a\",\n",
    "    \"ª\" : \"a\",\n",
    "    \"∀\" : \"a\",\n",
    "    \"∧\" : \"a\",\n",
    "    \"α\" : \"a\",\n",
    "    \"8\" : \"b\",\n",
    "    \"|3\": \"b\",\n",
    "    \"13\": \"b\",\n",
    "    \"ß\" : \"b\",\n",
    "    \"þ\" : \"b\",\n",
    "    \"v\" : \"b\",\n",
    "    \"ć\" : \"c\",\n",
    "    \"č\" : \"c\",\n",
    "    \"ç\" : \"c\",\n",
    "    \"©\" : \"c\",\n",
    "    \"σ\" : \"c\",\n",
    "    \"(\" : \"c\",\n",
    "    \"¢\" : \"c\",\n",
    "    \"<\" : \"c\",\n",
    "    '[' : \"c\",\n",
    "    '©': \"c\",\n",
    "    \"[)\" : \"d\",\n",
    "    \"|>\" : \"d\",\n",
    "    \"|)\" : \"d\",\n",
    "    \"|]\": \"d\",\n",
    "    \"3\" : \"e\",\n",
    "    \"€\" : \"e\",\n",
    "    \"є\" : \"e\",\n",
    "    \"[-\": \"e\",\n",
    "    \"|=\" : \"f\",\n",
    "    \"ƒ\" : \"f\",\n",
    "    \"/=\": \"f\",\n",
    "    \"6\" : \"g\",\n",
    "    \"(_+\": \"g\",\n",
    "    \"#\" : \"h\",\n",
    "    \"/-/\" : \"h\",\n",
    "    \"[-]\" : \"h\",\n",
    "    \"]-[\" : \"h\",\n",
    "    \")-(\" : \"h\",\n",
    "    \"(-)\" : \"h\",\n",
    "    \":-:\" : \"h\",\n",
    "    \"|~|\" : \"h\",\n",
    "    \"|-|\" : \"h\",\n",
    "    \"]~[\" : \"h\",\n",
    "    \"}{\" : \"h\",\n",
    "    \"1\" : \"i\",\n",
    "    '!' : \"i\",\n",
    "    \"|\" : \"i\",\n",
    "    \"][\" : \"i\",\n",
    "    \"]\" : \"i\",\n",
    "    \":\": \"i\",\n",
    "    \"_|\" : \"j\",\n",
    "    \"_/\" : \"j\",\n",
    "    \"¿\" : \"j\",\n",
    "    \"(/\" : \"j\",\n",
    "    \"ʝ\" : \"j\",\n",
    "    \";\" : \"j\",\n",
    "    \"X\" : \"k\",\n",
    "    \"|<\" : \"k\",\n",
    "    \"|{\" : \"k\",\n",
    "    \"ɮ\" : \"k\",\n",
    "    \"£\" : \"l\",\n",
    "    \"1_\" : \"l\",\n",
    "    \"ℓ\" : \"l\",\n",
    "    \"|_\" : \"l\",\n",
    "    \"[_\": \"l\",\n",
    "    \"|V|\" : \"m\",\n",
    "    \"|\\/|\" : \"m\",\n",
    "    \"/\\/\\ \" : \"m\",\n",
    "    \"/V\\ \": \"m\",\n",
    "    \"|V\" : \"n\",\n",
    "    \"|\\|\" : \"n\",\n",
    "    \"/\\/\" : \"n\",\n",
    "    \"[\\]\" : \"n\",\n",
    "    \"/V\" : \"n\",\n",
    "    \"[]\" : \"o\",\n",
    "    \"0\" :\"o\" ,\n",
    "    \"()\" : \"o\",\n",
    "    \"°\" : \"o\",\n",
    "    \"|*\" : \"p\",\n",
    "    \"|o\" : \"p\",\n",
    "    \"|º\" : \"p\",\n",
    "    \"|°\" : \"p\",\n",
    "    \"/*\" : \"p\",\n",
    "    \"¶\" : \"q\",\n",
    "    \"(_,)\" : \"q\",\n",
    "    \"()_\" : \"q\",\n",
    "    \"0_\" : \"q\",\n",
    "    \"°|\" : \"q\",\n",
    "    \"<|\" : \"q\",\n",
    "    \"®\" : \"r\",\n",
    "    \"2\" : \"r\",\n",
    "    \"|?\" : \"r\",\n",
    "    \"/2\" : \"r\",\n",
    "    \"®\" : \"r\",\n",
    "    \"Я\" : \"r\",\n",
    "    \"|2\": \"r\",\n",
    "    \"§\" : \"s\",\n",
    "    \"5\" : \"s\",\n",
    "    \"$\" : \"s\",\n",
    "    \"_/¯\": \"s\",\n",
    "    \"7\" : \"t\",\n",
    "    \"†\" : \"t\",\n",
    "    \"¯|¯\" : \"t\",\n",
    "    \"(_)\" : \"u\",\n",
    "    \"|_|\" : \"u\",\n",
    "    \"L|\" : \"u\",\n",
    "    \"µ\": \"u\",\n",
    "    \"\\/\" : \"v\",\n",
    "    \"|/\" : \"v\",\n",
    "    \"\\/\\/\" : \"w\",\n",
    "    \"vv\" : \"w\",\n",
    "    \"\\//\" :\"w\",\n",
    "    \"\\^/\" : \"w\",\n",
    "    \"\\V/\" : \"w\",\n",
    "    \"\\|/\" : \"w\",\n",
    "    \"\\_|_/\" : \"w\",\n",
    "    \"\\_:_/\" : \"w\",\n",
    "    \"><\": \"x\",\n",
    "    \"}{\" : \"x\",\n",
    "    \"×\" : \"x\",\n",
    "    \")(\" : \"x\",\n",
    "    \" `/\" : \"y\",\n",
    "    \"φ\" : \"y\",\n",
    "    \"¥\" : \"y\",\n",
    "    \"\\/\": \"y\",\n",
    "    \"≥\" : \"z\",\n",
    "    \"7_\" : \"z\",\n",
    "    \">_\": \"z\",\n",
    "    \"youre\": \"you are\",\n",
    "    \"im\": \"I am\",\n",
    "    \"dont\": \"do not\",\n",
    "    \"cant\": \"cannot\",\n",
    "    \"wont\": \"will not\",\n",
    "    \"ive\": \"I have\",\n",
    "    \"id\": \"I would\",\n",
    "    \"theyre\": \"they are\",\n",
    "    \"theres\": \"there is\",\n",
    "    \"ko\": \"không\",\n",
    "    \"t\": \"tôi\",\n",
    "    \"m\": \"mình\",\n",
    "    \"mày\": \"em\",\n",
    "    \"tao\": \"anh\",\n",
    "    \"dc\": \"được\",\n",
    "    \"hok\": \"không\",\n",
    "    \"ngta\": \"người ta\",\n",
    "    'bsau': \"bữa sau\",\n",
    "    \"k\":'không'\n",
    "}\n",
    "\n",
    "replaced_sentences = []\n",
    "for sentence in cleaned_sentences:\n",
    "    replaced_sentence = [word_replacements.get(word, word) for word in sentence]\n",
    "    replaced_sentences.append(replaced_sentence)\n",
    "\n",
    "print(replaced_sentences)"
   ]
  },
  {
   "cell_type": "code",
   "execution_count": null,
   "metadata": {},
   "outputs": [],
   "source": [
    "from sklearn.feature_extraction.text import TfidfVectorizer\n",
    "tfidf = TfidfVectorizer()\n",
    "xt = tfidf.fit_transform(data['Review Text'])\n",
    "y = data['sentiment']"
   ]
  },
  {
   "cell_type": "code",
   "execution_count": null,
   "metadata": {},
   "outputs": [],
   "source": [
    "replaced_sentences"
   ]
  },
  {
   "cell_type": "code",
   "execution_count": null,
   "metadata": {},
   "outputs": [],
   "source": [
    "# Convert text to numerical features using TF-IDF\n",
    "vectorizer = TfidfVectorizer()\n",
    "X = vectorizer.fit_transform(joined_sentences)\n",
    "\n",
    "# Apply StandardScaler to the numerical features\n",
    "scaler = StandardScaler()\n",
    "X_scaled = scaler.fit_transform(X.toarray())\n",
    "\n",
    "# Use the scaled features for further training or analysis\n",
    "print(X_scaled)"
   ]
  },
  {
   "cell_type": "code",
   "execution_count": null,
   "metadata": {},
   "outputs": [],
   "source": [
    "# Check the shapes of the input arrays\n",
    "print(X_scaled.shape)\n",
    "print(data[\"sentiment\"].shape)"
   ]
  },
  {
   "cell_type": "code",
   "execution_count": null,
   "metadata": {},
   "outputs": [],
   "source": [
    "# Make sure that all input arrays have the same number of samples\n",
    "assert X_scaled.shape[0] == data[\"sentiment\"].shape[0]"
   ]
  },
  {
   "cell_type": "code",
   "execution_count": null,
   "metadata": {},
   "outputs": [],
   "source": [
    "from sklearn.model_selection import train_test_split\n",
    "\n",
    "\n",
    "\n",
    "X_train, X_test, y_train, y_test = train_test_split(X_scaled, data[\"sentiment\"], test_size=0.2, random_state=42)"
   ]
  }
 ],
 "metadata": {
  "kernelspec": {
   "display_name": "Python 3",
   "language": "python",
   "name": "python3"
  },
  "language_info": {
   "codemirror_mode": {
    "name": "ipython",
    "version": 3
   },
   "file_extension": ".py",
   "mimetype": "text/x-python",
   "name": "python",
   "nbconvert_exporter": "python",
   "pygments_lexer": "ipython3",
   "version": "3.10.10"
  },
  "orig_nbformat": 4
 },
 "nbformat": 4,
 "nbformat_minor": 2
}
